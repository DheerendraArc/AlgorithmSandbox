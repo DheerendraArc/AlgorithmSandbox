{
  "nbformat": 4,
  "nbformat_minor": 0,
  "metadata": {
    "colab": {
      "name": "LINEAR_SEARCH.ipynb",
      "version": "0.3.2",
      "provenance": [],
      "include_colab_link": true
    },
    "kernelspec": {
      "name": "python3",
      "display_name": "Python 3"
    }
  },
  "cells": [
    {
      "cell_type": "markdown",
      "metadata": {
        "id": "view-in-github",
        "colab_type": "text"
      },
      "source": [
        "<a href=\"https://colab.research.google.com/github/DheerendraArc/AlgorithmSandbox/blob/master/LINEAR_SEARCH.ipynb\" target=\"_parent\"><img src=\"https://colab.research.google.com/assets/colab-badge.svg\" alt=\"Open In Colab\"/></a>"
      ]
    },
    {
      "cell_type": "markdown",
      "metadata": {
        "id": "sovdn5jYhohZ",
        "colab_type": "text"
      },
      "source": [
        "# Linear Search Algorithm\n",
        "\n",
        ">\n",
        "\n",
        "### Procedure LINEAR-SEARCH(A, n, x)\n",
        "Inputs:\n",
        "\n",
        "\n",
        "*   A: an array.\n",
        "*   n: the number of elements in A to search through.\n",
        "*   x: the value being searched for.\n",
        "\n",
        "Output:Either an index i for which A[i] = x, or the special value \n",
        "NOT-FOUND, which could be any invalid index into the array, such as 0 or any negative integer.\n",
        "\n",
        "\n",
        "\n",
        "\n",
        "\n",
        "> \n",
        "\n",
        "1. Set answer to NOT-FOUND.  \n",
        "2. For each index i, going from 1 to n, in order:\n",
        "    A. If A[i] = x, then set answer to the value of i.\n",
        "3. Return the value of answers as the output.\n",
        "\n",
        "## Time Complexity: 0(n)\n",
        "\n",
        "\n",
        "\n"
      ]
    },
    {
      "cell_type": "code",
      "metadata": {
        "id": "xuTdMBULdL4J",
        "colab_type": "code",
        "colab": {
          "base_uri": "https://localhost:8080/",
          "height": 34
        },
        "outputId": "028892f1-e20d-41b5-b804-8b8786485d8b"
      },
      "source": [
        "def linear_search(A, n, x):\n",
        "  \"\"\"\n",
        "    Return the index if element x is located on the array.\n",
        "    Else return it with the Not-Found element in the Array.\n",
        "  \"\"\"\n",
        "  for i in range(0, n):\n",
        "    if (A[i] == x):\n",
        "      return (i+1)\n",
        "    \n",
        "  return (-1)\n",
        "\n",
        "if __name__ == \"__main__\":\n",
        "  Array = [10, 24, 26, 32, 113, 0, 40]\n",
        "  n = len(Array)\n",
        "  x = -32\n",
        "  res = linear_search(Array, n, x)\n",
        "  if (res != -1):\n",
        "    print(\"The Element:{0} present at location:{1} in the Array:{2}\".format(x, res, Array))\n",
        "  else:\n",
        "    print(\"NOT-FOUND\")"
      ],
      "execution_count": 12,
      "outputs": [
        {
          "output_type": "stream",
          "text": [
            "NOT-FOUND\n"
          ],
          "name": "stdout"
        }
      ]
    },
    {
      "cell_type": "code",
      "metadata": {
        "id": "ZjqgESlDfG32",
        "colab_type": "code",
        "colab": {}
      },
      "source": [
        ""
      ],
      "execution_count": 0,
      "outputs": []
    }
  ]
}