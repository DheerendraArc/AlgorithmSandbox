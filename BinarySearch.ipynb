{
  "nbformat": 4,
  "nbformat_minor": 0,
  "metadata": {
    "colab": {
      "name": "BinarySearch.ipynb",
      "version": "0.3.2",
      "provenance": [],
      "include_colab_link": true
    },
    "kernelspec": {
      "name": "python3",
      "display_name": "Python 3"
    }
  },
  "cells": [
    {
      "cell_type": "markdown",
      "metadata": {
        "id": "view-in-github",
        "colab_type": "text"
      },
      "source": [
        "<a href=\"https://colab.research.google.com/github/DheerendraArc/AlgorithmSandbox/blob/master/BinarySearch.ipynb\" target=\"_parent\"><img src=\"https://colab.research.google.com/assets/colab-badge.svg\" alt=\"Open In Colab\"/></a>"
      ]
    },
    {
      "cell_type": "markdown",
      "metadata": {
        "id": "8ma1ALrG9ygj",
        "colab_type": "text"
      },
      "source": [
        "# Procedure for the BinarySearchAlgorithm\n",
        "\n",
        "\n",
        "\n",
        "```\n",
        "Procedure Binary_Search(A,n,x):\n",
        "  1. set p = 0, q = n\n",
        "  2. while p <= q:\n",
        "    a. r = floor((p+q)/2)\n",
        "    b. if A[r] == x:\n",
        "        return r\n",
        "    c. elif A[r] != x and A[r] > x:\n",
        "        q = r-1\n",
        "    d. elif A[r] != x and A[r] < x:\n",
        "        p = r+1\n",
        "  3. return NOT-FOUND\n",
        "\n",
        "```\n",
        "\n",
        "### A = Array[].\n",
        "### n = length of the array.\n",
        "### x = search element in array.\n",
        "\n",
        "## ** Array Element must follow order (Either Strictly Increasing or Strictly Decreasing)\n",
        "\n",
        "\n",
        "\n",
        "   \n",
        "\n",
        "\n"
      ]
    },
    {
      "cell_type": "code",
      "metadata": {
        "id": "d9W62xza9oW7",
        "colab_type": "code",
        "colab": {}
      },
      "source": [
        "import math\n",
        "def Binary_Search(A,n,x):\n",
        "  p = 0\n",
        "  q = n-1\n",
        "\n",
        "  while p <= q:\n",
        "    r = math.floor((p+q)/2)\n",
        "\n",
        "    if A[r] == x:\n",
        "      return r\n",
        "    \n",
        "    elif A[r] != x and A[r] > x:\n",
        "      q = r-1\n",
        "    \n",
        "    elif A[r] != x and A[r] < x:\n",
        "      p = r+1\n",
        "    \n",
        "  return \"NOT-FOUND\""
      ],
      "execution_count": 0,
      "outputs": []
    },
    {
      "cell_type": "code",
      "metadata": {
        "id": "FzLvHjZEB0qs",
        "colab_type": "code",
        "colab": {
          "base_uri": "https://localhost:8080/",
          "height": 34
        },
        "outputId": "968d5983-9a85-41af-d314-4d07d3960d1b"
      },
      "source": [
        "# Calling Driver class:\n",
        "if __name__ == \"__main__\":\n",
        "  Array = ['Astha', 'Deepesh', 'Utkarsh', 'Yash', 'Dheerendra', 'Akash', 'Surendra', 'Shubham']\n",
        "  n = len(Array)\n",
        "  X = 'Utkarsh'\n",
        "\n",
        "  index_val = Binary_Search(Array,n,X)\n",
        "  print(\"The index value of {0} in the Array is {1}\".format(X, index_val))"
      ],
      "execution_count": 16,
      "outputs": [
        {
          "output_type": "stream",
          "text": [
            "The index value of Utkarsh in the Array is 2\n"
          ],
          "name": "stdout"
        }
      ]
    },
    {
      "cell_type": "code",
      "metadata": {
        "id": "5H6dhn1XCsj1",
        "colab_type": "code",
        "colab": {}
      },
      "source": [
        ""
      ],
      "execution_count": 0,
      "outputs": []
    }
  ]
}