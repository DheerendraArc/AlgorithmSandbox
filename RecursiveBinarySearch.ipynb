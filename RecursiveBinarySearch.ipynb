{
  "nbformat": 4,
  "nbformat_minor": 0,
  "metadata": {
    "colab": {
      "name": "RecursiveBinarySearch.ipynb",
      "version": "0.3.2",
      "provenance": [],
      "include_colab_link": true
    },
    "kernelspec": {
      "name": "python3",
      "display_name": "Python 3"
    }
  },
  "cells": [
    {
      "cell_type": "markdown",
      "metadata": {
        "id": "view-in-github",
        "colab_type": "text"
      },
      "source": [
        "<a href=\"https://colab.research.google.com/github/DheerendraArc/AlgorithmSandbox/blob/master/RecursiveBinarySearch.ipynb\" target=\"_parent\"><img src=\"https://colab.research.google.com/assets/colab-badge.svg\" alt=\"Open In Colab\"/></a>"
      ]
    },
    {
      "cell_type": "markdown",
      "metadata": {
        "id": "zOo1LTSKH54W",
        "colab_type": "text"
      },
      "source": [
        "# Recursive BinarySearch Algorithm\n",
        "\n",
        "\n",
        "```\n",
        "Procedure RecursiveBinarySearch(A, p, q, x):\n",
        "  1. if p > q:\n",
        "      return NOT-FOUND.\n",
        "  2. else:\n",
        "      a. while p <= q:\n",
        "            r = floor((p+q)/2)\n",
        "\n",
        "            if A[r] == x:\n",
        "              return r\n",
        "          \n",
        "            elif A[r] != x and A[q] > x:\n",
        "              return RecursiveBinarySearch(A, p, q = r - 1, x)\n",
        "\n",
        "            elif A[r] != x and A[q] < x:\n",
        "              return RecursiveBinarySearch(A, p = r + 1, q, x)\n",
        "           \n",
        "         else:\n",
        "            return \"NOT-FOUND\" \n",
        "```\n",
        "### A = Array[]\n",
        "### p = starting point of search\n",
        "### q = upto search \n",
        "### x = searching element \n",
        "\n",
        "### ** Array Must be on the specific order (Either strictly Increasing or Strictly Decreasing).\n"
      ]
    },
    {
      "cell_type": "code",
      "metadata": {
        "id": "WHpbCSu3H2uW",
        "colab_type": "code",
        "colab": {}
      },
      "source": [
        "import math\n",
        "def RecursiveBinarySearch(A,p,q, x):\n",
        "  if p > q:\n",
        "    return \"NOT-FOUND\"\n",
        "  \n",
        "  while p <= q:\n",
        "    r = math.floor((p+q)/2)\n",
        "\n",
        "    if A[r] == x:\n",
        "      return r\n",
        "    \n",
        "    elif A[r] != q and A[r] > x:\n",
        "      return RecursiveBinarySearch(A, p, r - 1, x)\n",
        "    \n",
        "    elif A[r] != q and A[r] < x:\n",
        "      return RecursiveBinarySearch(A,r+1,q, x)\n",
        "\n",
        "  else:\n",
        "    return \"NOT-FOUND\"  "
      ],
      "execution_count": 0,
      "outputs": []
    },
    {
      "cell_type": "code",
      "metadata": {
        "id": "UhvvnuuSP6oV",
        "colab_type": "code",
        "colab": {
          "base_uri": "https://localhost:8080/",
          "height": 34
        },
        "outputId": "7262ca08-c09a-4e27-c9ca-b5460765ded6"
      },
      "source": [
        "if __name__ == \"__main__\":\n",
        "  Array = [\"Astha\", \"Deepesh\", \"Utkarsh\", \"Akash\", \"Surendra\", \"yash\", \"shubham\", \"Abhinandan\"]\n",
        "  X = \"yash\"\n",
        "  print(\"The key: {0} at location: {1}\".format(X, RecursiveBinarySearch(Array,0,len(Array)-1,X)))"
      ],
      "execution_count": 16,
      "outputs": [
        {
          "output_type": "stream",
          "text": [
            "The key: yash at location: 5\n"
          ],
          "name": "stdout"
        }
      ]
    },
    {
      "cell_type": "code",
      "metadata": {
        "id": "QyLgHOrjenYA",
        "colab_type": "code",
        "colab": {}
      },
      "source": [
        ""
      ],
      "execution_count": 0,
      "outputs": []
    }
  ]
}