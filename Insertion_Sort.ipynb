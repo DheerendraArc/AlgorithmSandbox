{
  "nbformat": 4,
  "nbformat_minor": 0,
  "metadata": {
    "colab": {
      "name": "Insertion_Sort.ipynb",
      "version": "0.3.2",
      "provenance": [],
      "include_colab_link": true
    },
    "kernelspec": {
      "name": "python3",
      "display_name": "Python 3"
    }
  },
  "cells": [
    {
      "cell_type": "markdown",
      "metadata": {
        "id": "view-in-github",
        "colab_type": "text"
      },
      "source": [
        "<a href=\"https://colab.research.google.com/github/DheerendraArc/AlgorithmSandbox/blob/master/Insertion_Sort.ipynb\" target=\"_parent\"><img src=\"https://colab.research.google.com/assets/colab-badge.svg\" alt=\"Open In Colab\"/></a>"
      ]
    },
    {
      "cell_type": "markdown",
      "metadata": {
        "id": "RmiktHk6pCl4",
        "colab_type": "text"
      },
      "source": [
        "Pseudo Code for Insertion Sort:\n",
        "  1. for j=1 to Array.Length\n",
        "  2.    key = Array[j]\n",
        "  3.    i = j-1\n",
        "  4.    while i>=0 and Array[i] > key\n",
        "  5.      Array[i+1] = Array[i]\n",
        "  6.      i = i - 1\n",
        "  7.    Array[i+1] = key   \n",
        "\n",
        "Index in Python Array is Starting at 0.\n",
        "\n",
        "For Printing the sorted list in reverse order: Assign flag \"reverse\" == True\n",
        "Otherwise Printing it with reverse order.\n",
        "\n",
        "\n"
      ]
    },
    {
      "cell_type": "code",
      "metadata": {
        "id": "rPw_t-9mKSGn",
        "colab_type": "code",
        "colab": {}
      },
      "source": [
        "class InsertionClass:\n",
        "  \"\"\"\n",
        "  Initialize __init__ constructor with Array \"A\" and reverse Argument.\n",
        "  \"\"\"\n",
        "  def __init__(self, A, reverse=False):\n",
        "    self.A = A      #Calling Array A\n",
        "    self.reverse = reverse #Calling reverse flag.\n",
        "\n",
        "  def insertionSort(self):\n",
        "    for j in range(1, len(self.A)):\n",
        "      key = self.A[j]\n",
        "      i = j-1\n",
        "      if(self.reverse):\n",
        "          while i>=0 and self.A[i] < key:\n",
        "            self.A[i+1] = self.A[i]\n",
        "            i = i - 1\n",
        "          self.A[i+1] = key\n",
        "      else:\n",
        "          while i>=0 and self.A[i] > key:\n",
        "            self.A[i+1] = self.A[i]\n",
        "            i = i - 1\n",
        "          self.A[i+1] = key \n",
        "    print(self.A)"
      ],
      "execution_count": 0,
      "outputs": []
    },
    {
      "cell_type": "code",
      "metadata": {
        "id": "VhfeWo9XXr4X",
        "colab_type": "code",
        "colab": {
          "base_uri": "https://localhost:8080/",
          "height": 34
        },
        "outputId": "6d0cf8cf-140f-470d-8125-fa2d7a035a47"
      },
      "source": [
        "if __name__ == \"__main__\":\n",
        "  Array = [31, 41, 59, 26, 41, 58]\n",
        "  array1 = InsertionClass(Array, reverse=False)\n",
        "  array1.insertionSort()"
      ],
      "execution_count": 27,
      "outputs": [
        {
          "output_type": "stream",
          "text": [
            "[26, 31, 41, 41, 58, 59]\n"
          ],
          "name": "stdout"
        }
      ]
    },
    {
      "cell_type": "code",
      "metadata": {
        "id": "tp-aNHwBXv8p",
        "colab_type": "code",
        "colab": {}
      },
      "source": [
        ""
      ],
      "execution_count": 0,
      "outputs": []
    }
  ]
}