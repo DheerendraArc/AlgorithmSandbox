{
  "nbformat": 4,
  "nbformat_minor": 0,
  "metadata": {
    "colab": {
      "name": "Insertion_Sort.ipynb",
      "version": "0.3.2",
      "provenance": [],
      "include_colab_link": true
    },
    "kernelspec": {
      "name": "python3",
      "display_name": "Python 3"
    }
  },
  "cells": [
    {
      "cell_type": "markdown",
      "metadata": {
        "id": "view-in-github",
        "colab_type": "text"
      },
      "source": [
        "<a href=\"https://colab.research.google.com/github/DheerendraArc/AlgorithmSandbox/blob/master/Insertion_Sort.ipynb\" target=\"_parent\"><img src=\"https://colab.research.google.com/assets/colab-badge.svg\" alt=\"Open In Colab\"/></a>"
      ]
    },
    {
      "cell_type": "markdown",
      "metadata": {
        "id": "RmiktHk6pCl4",
        "colab_type": "text"
      },
      "source": [
        "Pseudo Code for Insertion Sort:\n",
        "  1. for j=1 to Array.Length\n",
        "  2.    key = Array[j]\n",
        "  3.    i = j-1\n",
        "  4.    while i>=0 and Array[i] > key\n",
        "  5.      Array[i+1] = Array[i]\n",
        "  6.      i = i - 1\n",
        "  7.    Array[i+1] = key   \n",
        "\n",
        "Index in Python Array is Starting at 0.\n",
        "\n",
        "\n"
      ]
    },
    {
      "cell_type": "code",
      "metadata": {
        "id": "fHbX6zLvvXB9",
        "colab_type": "code",
        "colab": {}
      },
      "source": [
        "class InsertionClass:\n",
        "  def __init__(self, A):\n",
        "    self.A = A\n",
        "\n",
        "  def insertionSort(self):\n",
        "    for j in range(1, len(self.A)):\n",
        "      key = self.A[j]\n",
        "      i = j-1\n",
        "\n",
        "      while i>=0 and self.A[i] > key:\n",
        "        self.A[i+1] = self.A[i]\n",
        "        i = i-1\n",
        "      self.A[i+1] = key \n",
        "    print(self.A)"
      ],
      "execution_count": 0,
      "outputs": []
    },
    {
      "cell_type": "code",
      "metadata": {
        "id": "StmWfmE3z0fA",
        "colab_type": "code",
        "outputId": "8c74d285-9928-4240-b4da-604e3d3cf2e5",
        "colab": {
          "base_uri": "https://localhost:8080/",
          "height": 34
        }
      },
      "source": [
        "if __name__ == \"__main__\":\n",
        "  Array = [5, 2, 4, 6, 1, 3]\n",
        "  array1 = InsertionClass(Array)\n",
        "  array1.insertionSort()"
      ],
      "execution_count": 11,
      "outputs": [
        {
          "output_type": "stream",
          "text": [
            "[1, 2, 3, 4, 5, 6]\n"
          ],
          "name": "stdout"
        }
      ]
    },
    {
      "cell_type": "code",
      "metadata": {
        "id": "rPw_t-9mKSGn",
        "colab_type": "code",
        "colab": {}
      },
      "source": [
        ""
      ],
      "execution_count": 0,
      "outputs": []
    }
  ]
}